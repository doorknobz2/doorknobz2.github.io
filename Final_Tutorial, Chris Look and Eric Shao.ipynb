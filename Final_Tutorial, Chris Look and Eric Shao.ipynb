{
 "cells": [
  {
   "cell_type": "markdown",
   "metadata": {
    "colab_type": "text",
    "id": "lTNq-HuMoHEM"
   },
   "source": [
    "__Can We Predict the Severity of Forest Fires?__ by Chris Look, Eric Shao\n",
    "\n",
    "The range of applications for data science is immense, ranging from the largest scale macroeconomic estimations to the process by which drugs interact with proteins. In this tutorial, we intend to use data science to predict the impact a forest fire has based on meteorological and temporal conditions. \n"
   ]
  },
  {
   "cell_type": "markdown",
   "metadata": {
    "colab_type": "text",
    "id": "qNx7JxovoY60"
   },
   "source": [
    "A brief description of the dataset: A set of instances in portugal where forest fires broke out. There are 517 instances, each with 12 attributes that are described below as taken from the UCI description:\n",
    "\n",
    "1. X - x-axis spatial coordinate within the Montesinho park map: 1 to 9\n",
    "2. Y - y-axis spatial coordinate within the Montesinho park map: 2 to 9\n",
    "3. month - month of the year: \"jan\" to \"dec\" \n",
    "4. day - day of the week: \"mon\" to \"sun\"\n",
    "5. FFMC - FFMC index from the FWI system: 18.7 to 96.20\n",
    "6. DMC - DMC index from the FWI system: 1.1 to 291.3 \n",
    "7. DC - DC index from the FWI system: 7.9 to 860.6 \n",
    "8. ISI - ISI index from the FWI system: 0.0 to 56.10\n",
    "9. temp - temperature in Celsius degrees: 2.2 to 33.30\n",
    "10. RH - relative humidity in %: 15.0 to 100\n",
    "11. wind - wind speed in km/h: 0.40 to 9.40 \n",
    "12. rain - outside rain in mm/m2 : 0.0 to 6.4 \n",
    "13. area - the burned area of the forest (in ha): 0.00 to 1090.84 \n",
    "   (this output variable is very skewed towards 0.0, thus it may make\n",
    "  sense to model with the logarithm transform). \n",
    "  "
   ]
  },
  {
   "cell_type": "code",
   "execution_count": 0,
   "metadata": {
    "colab": {},
    "colab_type": "code",
    "id": "DZzUdF6ln_pK"
   },
   "outputs": [],
   "source": [
    "import numpy as np\n",
    "import pandas as pd\n",
    "import matplotlib.pyplot as plt\n",
    "from scipy import stats\n",
    "from sklearn import linear_model\n",
    "from sklearn.utils import shuffle\n",
    "from sklearn.model_selection import KFold\n",
    "from sklearn import svm\n",
    "from sklearn.ensemble import RandomForestClassifier\n",
    "from sklearn.metrics import mean_absolute_error\n",
    "from sklearn.svm import SVR\n",
    "from sklearn.linear_model import LinearRegression\n",
    "from sklearn.metrics import accuracy_score\n",
    "from sklearn.neighbors import KNeighborsClassifier\n",
    "from sklearn import svm\n",
    "from sklearn.model_selection import GridSearchCV"
   ]
  },
  {
   "cell_type": "code",
   "execution_count": 0,
   "metadata": {
    "colab": {
     "base_uri": "https://localhost:8080/",
     "height": 195
    },
    "colab_type": "code",
    "id": "bgdNtERJ1HqW",
    "outputId": "2ccc7959-cf7c-43c7-a514-fa462ad8fab0"
   },
   "outputs": [
    {
     "data": {
      "text/html": [
       "<div>\n",
       "<style scoped>\n",
       "    .dataframe tbody tr th:only-of-type {\n",
       "        vertical-align: middle;\n",
       "    }\n",
       "\n",
       "    .dataframe tbody tr th {\n",
       "        vertical-align: top;\n",
       "    }\n",
       "\n",
       "    .dataframe thead th {\n",
       "        text-align: right;\n",
       "    }\n",
       "</style>\n",
       "<table border=\"1\" class=\"dataframe\">\n",
       "  <thead>\n",
       "    <tr style=\"text-align: right;\">\n",
       "      <th></th>\n",
       "      <th>X</th>\n",
       "      <th>Y</th>\n",
       "      <th>month</th>\n",
       "      <th>day</th>\n",
       "      <th>FFMC</th>\n",
       "      <th>DMC</th>\n",
       "      <th>DC</th>\n",
       "      <th>ISI</th>\n",
       "      <th>temp</th>\n",
       "      <th>RH</th>\n",
       "      <th>wind</th>\n",
       "      <th>rain</th>\n",
       "      <th>area</th>\n",
       "      <th>log_area</th>\n",
       "    </tr>\n",
       "  </thead>\n",
       "  <tbody>\n",
       "    <tr>\n",
       "      <th>0</th>\n",
       "      <td>7</td>\n",
       "      <td>5</td>\n",
       "      <td>mar</td>\n",
       "      <td>fri</td>\n",
       "      <td>86.2</td>\n",
       "      <td>26.2</td>\n",
       "      <td>94.3</td>\n",
       "      <td>5.1</td>\n",
       "      <td>8.2</td>\n",
       "      <td>51</td>\n",
       "      <td>6.7</td>\n",
       "      <td>0.0</td>\n",
       "      <td>0.0</td>\n",
       "      <td>0.0</td>\n",
       "    </tr>\n",
       "    <tr>\n",
       "      <th>1</th>\n",
       "      <td>7</td>\n",
       "      <td>4</td>\n",
       "      <td>oct</td>\n",
       "      <td>tue</td>\n",
       "      <td>90.6</td>\n",
       "      <td>35.4</td>\n",
       "      <td>669.1</td>\n",
       "      <td>6.7</td>\n",
       "      <td>18.0</td>\n",
       "      <td>33</td>\n",
       "      <td>0.9</td>\n",
       "      <td>0.0</td>\n",
       "      <td>0.0</td>\n",
       "      <td>0.0</td>\n",
       "    </tr>\n",
       "    <tr>\n",
       "      <th>2</th>\n",
       "      <td>7</td>\n",
       "      <td>4</td>\n",
       "      <td>oct</td>\n",
       "      <td>sat</td>\n",
       "      <td>90.6</td>\n",
       "      <td>43.7</td>\n",
       "      <td>686.9</td>\n",
       "      <td>6.7</td>\n",
       "      <td>14.6</td>\n",
       "      <td>33</td>\n",
       "      <td>1.3</td>\n",
       "      <td>0.0</td>\n",
       "      <td>0.0</td>\n",
       "      <td>0.0</td>\n",
       "    </tr>\n",
       "    <tr>\n",
       "      <th>3</th>\n",
       "      <td>8</td>\n",
       "      <td>6</td>\n",
       "      <td>mar</td>\n",
       "      <td>fri</td>\n",
       "      <td>91.7</td>\n",
       "      <td>33.3</td>\n",
       "      <td>77.5</td>\n",
       "      <td>9.0</td>\n",
       "      <td>8.3</td>\n",
       "      <td>97</td>\n",
       "      <td>4.0</td>\n",
       "      <td>0.2</td>\n",
       "      <td>0.0</td>\n",
       "      <td>0.0</td>\n",
       "    </tr>\n",
       "    <tr>\n",
       "      <th>4</th>\n",
       "      <td>8</td>\n",
       "      <td>6</td>\n",
       "      <td>mar</td>\n",
       "      <td>sun</td>\n",
       "      <td>89.3</td>\n",
       "      <td>51.3</td>\n",
       "      <td>102.2</td>\n",
       "      <td>9.6</td>\n",
       "      <td>11.4</td>\n",
       "      <td>99</td>\n",
       "      <td>1.8</td>\n",
       "      <td>0.0</td>\n",
       "      <td>0.0</td>\n",
       "      <td>0.0</td>\n",
       "    </tr>\n",
       "  </tbody>\n",
       "</table>\n",
       "</div>"
      ],
      "text/plain": [
       "   X  Y month  day  FFMC   DMC     DC  ISI  temp  RH  wind  rain  area  \\\n",
       "0  7  5   mar  fri  86.2  26.2   94.3  5.1   8.2  51   6.7   0.0   0.0   \n",
       "1  7  4   oct  tue  90.6  35.4  669.1  6.7  18.0  33   0.9   0.0   0.0   \n",
       "2  7  4   oct  sat  90.6  43.7  686.9  6.7  14.6  33   1.3   0.0   0.0   \n",
       "3  8  6   mar  fri  91.7  33.3   77.5  9.0   8.3  97   4.0   0.2   0.0   \n",
       "4  8  6   mar  sun  89.3  51.3  102.2  9.6  11.4  99   1.8   0.0   0.0   \n",
       "\n",
       "   log_area  \n",
       "0       0.0  \n",
       "1       0.0  \n",
       "2       0.0  \n",
       "3       0.0  \n",
       "4       0.0  "
      ]
     },
     "execution_count": 111,
     "metadata": {
      "tags": []
     },
     "output_type": "execute_result"
    }
   ],
   "source": [
    "#getting data \n",
    "forest_fires = pd.read_csv(\"https://archive.ics.uci.edu/ml/machine-learning-databases/forest-fires/forestfires.csv\")\n",
    "#normalizing fire area values, most are small, with a couple of large ones\n",
    "#Follows power law distribution as shown later\n",
    "forest_fires['log_area'] = np.log(forest_fires['area']+1)\n",
    "forest_fires_copy = forest_fires.copy()\n",
    "forest_fires.head(5)"
   ]
  },
  {
   "cell_type": "markdown",
   "metadata": {
    "colab_type": "text",
    "id": "t-S7M_3JpRYk"
   },
   "source": [
    "Intuitively, we would expect fires to be both more dangerous and more frequent during the summer months. The following code produces a histogram that shows the reported number of fires for each month. The data for this histogram was pulled from the main forest_fires dataframe by iterating through each entry in forest_fires.\n",
    "\n"
   ]
  },
  {
   "cell_type": "code",
   "execution_count": 0,
   "metadata": {
    "colab": {
     "base_uri": "https://localhost:8080/",
     "height": 386
    },
    "colab_type": "code",
    "id": "E5_W5ahgoUBX",
    "outputId": "bf74347e-183b-47ae-ddce-52165abe02a5"
   },
   "outputs": [
    {
     "data": {
      "text/plain": [
       "<matplotlib.axes._subplots.AxesSubplot at 0x7f9b6dba96d8>"
      ]
     },
     "execution_count": 112,
     "metadata": {
      "tags": []
     },
     "output_type": "execute_result"
    },
    {
     "data": {
      "image/png": "[encoded data removed]",
      "text/plain": [
       "<matplotlib.figure.Figure at 0x7f9b6dc02748>"
      ]
     },
     "metadata": {
      "tags": []
     },
     "output_type": "display_data"
    }
   ],
   "source": [
    "new = []\n",
    "for month in ['jan', 'feb', 'mar', 'apr', 'may', 'jun', 'jul', 'aug', 'sep', 'oct', 'nov', 'dec']:\n",
    "  count = 0\n",
    "  for index, row in forest_fires.iterrows():\n",
    "    if forest_fires.at[index, 'month'] == month:\n",
    "      count+=1\n",
    "      \n",
    "  new.append((month, count))\n",
    "df = pd.DataFrame(data = new, columns = ['month', 'fires'])\n",
    "df.plot.bar(x = 'month', y = 'fires')"
   ]
  },
  {
   "cell_type": "markdown",
   "metadata": {
    "colab_type": "text",
    "id": "LJb0xJ08qCk3"
   },
   "source": [
    "To turn month into a more meaningful feature, we used one hot encoding. One hot encoding is a method by which a categorical variable is converted into a more machine learning friendly form. These are typically applied to distinct categories like cat and dog, but can also be done for others. In this case, months do have some sort of relationship, though not linear. It is cyclical. This makes encoding it into a numeric variable more difficult and is the subject of the below attempt. In an attempt to avoid creating fake relationships between months, we make them distinct variables. One hot encoding removes the relationship between each categorical variable. \n",
    "To achieve one hot encoding, we created a feature for each month, and each instance had a 1 if it was from that month, and 0 otherwise. \n"
   ]
  },
  {
   "cell_type": "code",
   "execution_count": 0,
   "metadata": {
    "colab": {},
    "colab_type": "code",
    "id": "Je1pCE9z3SQr"
   },
   "outputs": [],
   "source": [
    "#One Hot Encoding of Months\n",
    "forest_fires['jan'] = np.where(forest_fires['month'] == 'jan',1,0)\n",
    "forest_fires['feb'] = np.where(forest_fires['month'] == 'feb',1,0)\n",
    "forest_fires['mar'] = np.where(forest_fires['month'] == 'mar',1,0)\n",
    "forest_fires['apr'] = np.where(forest_fires['month'] == 'apr',1,0)\n",
    "forest_fires['may'] = np.where(forest_fires['month'] == 'may',1,0)\n",
    "forest_fires['jun'] = np.where(forest_fires['month'] == 'jun',1,0)\n",
    "forest_fires['jul'] = np.where(forest_fires['month'] == 'jul',1,0)\n",
    "forest_fires['aug'] = np.where(forest_fires['month'] == 'aug',1,0)\n",
    "forest_fires['sep'] = np.where(forest_fires['month'] == 'sep',1,0)\n",
    "forest_fires['oct'] = np.where(forest_fires['month'] == 'oct',1,0)\n",
    "forest_fires['nov'] = np.where(forest_fires['month'] == 'nov',1,0)\n",
    "forest_fires['dec'] = np.where(forest_fires['month'] == 'dec',1,0)\n",
    "#normalizing fire area values, most are small, with a couple of large ones\n",
    "#Follows power law distribution as shown later\n"
   ]
  },
  {
   "cell_type": "code",
   "execution_count": 0,
   "metadata": {
    "colab": {
     "base_uri": "https://localhost:8080/",
     "height": 224
    },
    "colab_type": "code",
    "id": "4P3c8-CK6F2I",
    "outputId": "dc09db9c-09ca-4094-8d0a-2f2ffe570291"
   },
   "outputs": [
    {
     "data": {
      "text/html": [
       "<div>\n",
       "<style scoped>\n",
       "    .dataframe tbody tr th:only-of-type {\n",
       "        vertical-align: middle;\n",
       "    }\n",
       "\n",
       "    .dataframe tbody tr th {\n",
       "        vertical-align: top;\n",
       "    }\n",
       "\n",
       "    .dataframe thead th {\n",
       "        text-align: right;\n",
       "    }\n",
       "</style>\n",
       "<table border=\"1\" class=\"dataframe\">\n",
       "  <thead>\n",
       "    <tr style=\"text-align: right;\">\n",
       "      <th></th>\n",
       "      <th>X</th>\n",
       "      <th>Y</th>\n",
       "      <th>month</th>\n",
       "      <th>day</th>\n",
       "      <th>FFMC</th>\n",
       "      <th>DMC</th>\n",
       "      <th>DC</th>\n",
       "      <th>ISI</th>\n",
       "      <th>temp</th>\n",
       "      <th>RH</th>\n",
       "      <th>...</th>\n",
       "      <th>mar</th>\n",
       "      <th>apr</th>\n",
       "      <th>may</th>\n",
       "      <th>jun</th>\n",
       "      <th>jul</th>\n",
       "      <th>aug</th>\n",
       "      <th>sep</th>\n",
       "      <th>oct</th>\n",
       "      <th>nov</th>\n",
       "      <th>dec</th>\n",
       "    </tr>\n",
       "  </thead>\n",
       "  <tbody>\n",
       "    <tr>\n",
       "      <th>0</th>\n",
       "      <td>7</td>\n",
       "      <td>5</td>\n",
       "      <td>mar</td>\n",
       "      <td>fri</td>\n",
       "      <td>86.2</td>\n",
       "      <td>26.2</td>\n",
       "      <td>94.3</td>\n",
       "      <td>5.1</td>\n",
       "      <td>8.2</td>\n",
       "      <td>51</td>\n",
       "      <td>...</td>\n",
       "      <td>1</td>\n",
       "      <td>0</td>\n",
       "      <td>0</td>\n",
       "      <td>0</td>\n",
       "      <td>0</td>\n",
       "      <td>0</td>\n",
       "      <td>0</td>\n",
       "      <td>0</td>\n",
       "      <td>0</td>\n",
       "      <td>0</td>\n",
       "    </tr>\n",
       "    <tr>\n",
       "      <th>1</th>\n",
       "      <td>7</td>\n",
       "      <td>4</td>\n",
       "      <td>oct</td>\n",
       "      <td>tue</td>\n",
       "      <td>90.6</td>\n",
       "      <td>35.4</td>\n",
       "      <td>669.1</td>\n",
       "      <td>6.7</td>\n",
       "      <td>18.0</td>\n",
       "      <td>33</td>\n",
       "      <td>...</td>\n",
       "      <td>0</td>\n",
       "      <td>0</td>\n",
       "      <td>0</td>\n",
       "      <td>0</td>\n",
       "      <td>0</td>\n",
       "      <td>0</td>\n",
       "      <td>0</td>\n",
       "      <td>1</td>\n",
       "      <td>0</td>\n",
       "      <td>0</td>\n",
       "    </tr>\n",
       "    <tr>\n",
       "      <th>2</th>\n",
       "      <td>7</td>\n",
       "      <td>4</td>\n",
       "      <td>oct</td>\n",
       "      <td>sat</td>\n",
       "      <td>90.6</td>\n",
       "      <td>43.7</td>\n",
       "      <td>686.9</td>\n",
       "      <td>6.7</td>\n",
       "      <td>14.6</td>\n",
       "      <td>33</td>\n",
       "      <td>...</td>\n",
       "      <td>0</td>\n",
       "      <td>0</td>\n",
       "      <td>0</td>\n",
       "      <td>0</td>\n",
       "      <td>0</td>\n",
       "      <td>0</td>\n",
       "      <td>0</td>\n",
       "      <td>1</td>\n",
       "      <td>0</td>\n",
       "      <td>0</td>\n",
       "    </tr>\n",
       "    <tr>\n",
       "      <th>3</th>\n",
       "      <td>8</td>\n",
       "      <td>6</td>\n",
       "      <td>mar</td>\n",
       "      <td>fri</td>\n",
       "      <td>91.7</td>\n",
       "      <td>33.3</td>\n",
       "      <td>77.5</td>\n",
       "      <td>9.0</td>\n",
       "      <td>8.3</td>\n",
       "      <td>97</td>\n",
       "      <td>...</td>\n",
       "      <td>1</td>\n",
       "      <td>0</td>\n",
       "      <td>0</td>\n",
       "      <td>0</td>\n",
       "      <td>0</td>\n",
       "      <td>0</td>\n",
       "      <td>0</td>\n",
       "      <td>0</td>\n",
       "      <td>0</td>\n",
       "      <td>0</td>\n",
       "    </tr>\n",
       "    <tr>\n",
       "      <th>4</th>\n",
       "      <td>8</td>\n",
       "      <td>6</td>\n",
       "      <td>mar</td>\n",
       "      <td>sun</td>\n",
       "      <td>89.3</td>\n",
       "      <td>51.3</td>\n",
       "      <td>102.2</td>\n",
       "      <td>9.6</td>\n",
       "      <td>11.4</td>\n",
       "      <td>99</td>\n",
       "      <td>...</td>\n",
       "      <td>1</td>\n",
       "      <td>0</td>\n",
       "      <td>0</td>\n",
       "      <td>0</td>\n",
       "      <td>0</td>\n",
       "      <td>0</td>\n",
       "      <td>0</td>\n",
       "      <td>0</td>\n",
       "      <td>0</td>\n",
       "      <td>0</td>\n",
       "    </tr>\n",
       "  </tbody>\n",
       "</table>\n",
       "<p>5 rows × 26 columns</p>\n",
       "</div>"
      ],
      "text/plain": [
       "   X  Y month  day  FFMC   DMC     DC  ISI  temp  RH ...   mar  apr  may  jun  \\\n",
       "0  7  5   mar  fri  86.2  26.2   94.3  5.1   8.2  51 ...     1    0    0    0   \n",
       "1  7  4   oct  tue  90.6  35.4  669.1  6.7  18.0  33 ...     0    0    0    0   \n",
       "2  7  4   oct  sat  90.6  43.7  686.9  6.7  14.6  33 ...     0    0    0    0   \n",
       "3  8  6   mar  fri  91.7  33.3   77.5  9.0   8.3  97 ...     1    0    0    0   \n",
       "4  8  6   mar  sun  89.3  51.3  102.2  9.6  11.4  99 ...     1    0    0    0   \n",
       "\n",
       "   jul  aug  sep  oct  nov  dec  \n",
       "0    0    0    0    0    0    0  \n",
       "1    0    0    0    1    0    0  \n",
       "2    0    0    0    1    0    0  \n",
       "3    0    0    0    0    0    0  \n",
       "4    0    0    0    0    0    0  \n",
       "\n",
       "[5 rows x 26 columns]"
      ]
     },
     "execution_count": 114,
     "metadata": {
      "tags": []
     },
     "output_type": "execute_result"
    }
   ],
   "source": [
    "forest_fires.head(5)"
   ]
  },
  {
   "cell_type": "markdown",
   "metadata": {
    "colab_type": "text",
    "id": "7FhHRVH9qdx2"
   },
   "source": [
    "To make a prediction, we used multiple linear regression. But what is multiple linear regression? It is a relatively simple machine learning method, extending the commonly used linear regression that correlates one variable x with y, to see if any increase in x is found to occur often with an increase or decrease in y linearly. Multiple linear regression, as the name implies, adds in several variables, say x1,x2...xn, and an intercept, to standardize the sum. For example if one were to predict test scores from hours studying, people who spend no time studying likely do not all get 0’s so an intercept is added to normalize for it. The model is trained by giving each of the x’s a weight, so that yest = a1x1 + a2x2 +… + anxn + intercept. Again, with our test scores example, we may want to predict score from hours studying and hours watching T.V. One would imagine the weight for hours watching TV is negative, since the more hours one watches T.V, the lower the predicted score, and the opposite for hours studying. \n"
   ]
  },
  {
   "cell_type": "markdown",
   "metadata": {
    "colab_type": "text",
    "id": "JgHUUnBeqaw0"
   },
   "source": [
    "Our goal was to predict based on month and weather (temporal and meteorological) conditions, how large a fire could be predicted to be. Thus we included the one hot encoded months, and the  weather conditions of the day, relative humidity (RH), wind, rain, and temperature. The weights for each month are below:\n"
   ]
  },
  {
   "cell_type": "code",
   "execution_count": 0,
   "metadata": {
    "colab": {
     "base_uri": "https://localhost:8080/",
     "height": 118
    },
    "colab_type": "code",
    "id": "XB3gfZx17liT",
    "outputId": "bf7d3cb5-f06d-4dac-d52a-a08ec635a114"
   },
   "outputs": [
    {
     "name": "stdout",
     "output_type": "stream",
     "text": [
      "all coefficients : [-0.67017519  0.25015009 -0.22546045  0.12842931  0.70387954 -0.449044\n",
      " -0.25700799 -0.29841845  0.06054825 -0.16297689 -0.88415296  1.80422874\n",
      "  0.00357983  0.05880873  0.0434159   0.05489355]\n",
      "just month coefficients : [-0.67017519  0.25015009 -0.22546045  0.12842931  0.70387954 -0.449044\n",
      " -0.25700799 -0.29841845  0.06054825 -0.16297689 -0.88415296]\n",
      "intercept: 0.013850\n"
     ]
    }
   ],
   "source": [
    "#predicting based on weather and month.\n",
    "X_months = forest_fires[['jan','feb','mar','apr','may','jun','jul','aug','sep','oct','nov','dec','RH','rain','temp','wind']].values\n",
    "Y_months = forest_fires['log_area'].values\n",
    "\n",
    "reg_inter = linear_model.LinearRegression()\n",
    "reg_inter.fit(X_months, forest_fires['log_area'])\n",
    "print(\"all coefficients : \" + str(reg_inter.coef_))\n",
    "print(\"just month coefficients : \" + str(reg_inter.coef_[:11]))\n",
    "print(\"intercept: %f\" % reg_inter.intercept_)"
   ]
  },
  {
   "cell_type": "markdown",
   "metadata": {
    "colab_type": "text",
    "id": "HkkPcG-Zr-O0"
   },
   "source": [
    "We found, very surprisingly, that the largest positive weight by far was December, while the largest negative ones were the summer months. This counter-intuitively suggests that there is a negative correlation with temperature and area of destruction by forest fire. "
   ]
  },
  {
   "cell_type": "markdown",
   "metadata": {
    "colab_type": "text",
    "id": "W-fXj3lhsRXJ"
   },
   "source": [
    "Ok, so now we have the model. How do we test it? We used all of the data in creating the model, so testing the model with that same data will always produce a perfect prediction, which is ultimately useless for our purposes. We utilize 10-fold cross validation, which involves segmenting the data in 10 different segments. We then create a model based on 9 of the segments, and test its accuracy on the last segment, repeating until each segment has been the segment left out. We can then combine all of the predictions, and find the error, and thus how successful we are in creating a model that can predict area based on the aforementioned factors. \n"
   ]
  },
  {
   "cell_type": "code",
   "execution_count": 0,
   "metadata": {
    "colab": {
     "base_uri": "https://localhost:8080/",
     "height": 101
    },
    "colab_type": "code",
    "id": "_OXosPj0QCvK",
    "outputId": "f78eebd3-93e4-4b33-dd3d-f00ae0e12b62"
   },
   "outputs": [
    {
     "name": "stdout",
     "output_type": "stream",
     "text": [
      "coeff array: [-6.23971661e-01  3.38853755e-01 -1.45465863e-01  2.84916367e-02\n",
      " -9.17325038e-01 -6.22369123e-01 -1.34903983e-01 -5.96541053e-02\n",
      "  2.83753191e-01  1.04370623e-02  1.38777878e-16  1.84215413e+00\n",
      "  1.99572646e-03 -1.41871884e+00  2.76016124e-02  4.01327550e-02]\n",
      "1.2642785730793868\n"
     ]
    }
   ],
   "source": [
    "#Use Linear Regression to predict area based on meteorological features and month\n",
    "resid = 0\n",
    "kf = KFold(n_splits=10)\n",
    "y_pred = []\n",
    "y_true = []\n",
    "\n",
    "for train, test in kf.split(X_months):\n",
    "  clf = SVR(gamma='scale', C=1.0, epsilon=0.2)\n",
    "  clf.fit(X_months[train], Y_months[train])\n",
    "  reg = LinearRegression().fit(X_months[train], Y_months[train])\n",
    "  y_test = reg.predict(X_months[test])\n",
    "  y_pred = np.concatenate([y_pred,y_test])\n",
    "  y_true = np.concatenate([y_true,Y_months[test]])\n",
    "print(\"coeff array: \" + str(reg.coef_))\n",
    "err = mean_absolute_error(y_pred, y_true)\n",
    "print(err)\n"
   ]
  },
  {
   "cell_type": "markdown",
   "metadata": {
    "colab_type": "text",
    "id": "vV4Lo1dgta9Y"
   },
   "source": [
    "Testing out this model on the dataset using 10-fold cross validation, we find that the results are very disappointing. The r value for the output actual to output predicted plot was -0.186, implying that the model was useless. We ignore the p value in this case because the target r value was 1. We found that this model, including meteorological and temporal features was not useful.\n"
   ]
  },
  {
   "cell_type": "code",
   "execution_count": 0,
   "metadata": {
    "colab": {
     "base_uri": "https://localhost:8080/",
     "height": 368
    },
    "colab_type": "code",
    "id": "s24-PcJmZUvi",
    "outputId": "afe57f6b-c0a8-471d-ca58-f82bec348b7f"
   },
   "outputs": [
    {
     "name": "stdout",
     "output_type": "stream",
     "text": [
      "r: -0.186476  p: 0.000020\n"
     ]
    },
    {
     "data": {
      "image/png": "[encoded data removed]",
      "text/plain": [
       "<matplotlib.figure.Figure at 0x7f9b6dbec710>"
      ]
     },
     "metadata": {
      "tags": []
     },
     "output_type": "display_data"
    }
   ],
   "source": [
    "#plot actual vs fitted\n",
    "plt.scatter(y_true, y_pred, alpha=0.5)\n",
    "plt.axis([0, 7, 0, 4])\n",
    "slope, intercept, r_value, p_value, std_err = stats.linregress(y_true, y_pred)\n",
    "#Dissapointing r value.\n",
    "print(\"r: %f  p: %f\" % (r_value,p_value))"
   ]
  },
  {
   "cell_type": "markdown",
   "metadata": {
    "colab_type": "text",
    "id": "C8rOif2etf2D"
   },
   "source": [
    "However, looking at the histogram of the fires over time uncovers a bias. While the fires during the winter had large areas, there are significantly fewer of them, with nearly 0 in jan and nov. This suggests that fires are much more likely to occur during the hotter summer months, but when they occur during winter, on average they tend to be more severe. This is also shown by the violin plot. Because of the high number of 0’s for the area, the graphs seem to be “bottom weighted” and again follow a power law distribution. Hence, we decided to predict the regression of a non-negligible fire, where the burned area was greater than 0 hectare. \n"
   ]
  },
  {
   "cell_type": "code",
   "execution_count": 0,
   "metadata": {
    "colab": {
     "base_uri": "https://localhost:8080/",
     "height": 582
    },
    "colab_type": "code",
    "id": "CmmEkt9UsbGG",
    "outputId": "393f37c6-25bf-436a-acdd-88289eeb46e5"
   },
   "outputs": [
    {
     "name": "stdout",
     "output_type": "stream",
     "text": [
      "12\n"
     ]
    },
    {
     "data": {
      "text/plain": [
       "([<matplotlib.axis.XTick at 0x7f9b6db0b550>,\n",
       "  <matplotlib.axis.XTick at 0x7f9b6db3de48>,\n",
       "  <matplotlib.axis.XTick at 0x7f9b6da974e0>,\n",
       "  <matplotlib.axis.XTick at 0x7f9b6da74400>,\n",
       "  <matplotlib.axis.XTick at 0x7f9b6da74b00>,\n",
       "  <matplotlib.axis.XTick at 0x7f9b6da79240>,\n",
       "  <matplotlib.axis.XTick at 0x7f9b6da79940>,\n",
       "  <matplotlib.axis.XTick at 0x7f9b6da7e080>,\n",
       "  <matplotlib.axis.XTick at 0x7f9b6da7e780>,\n",
       "  <matplotlib.axis.XTick at 0x7f9b6da7eef0>,\n",
       "  <matplotlib.axis.XTick at 0x7f9b6da846a0>,\n",
       "  <matplotlib.axis.XTick at 0x7f9b6da84e10>],\n",
       " <a list of 12 Text xticklabel objects>)"
      ]
     },
     "execution_count": 118,
     "metadata": {
      "tags": []
     },
     "output_type": "execute_result"
    },
    {
     "data": {
      "image/png": "[encoded data removed]",
      "text/plain": [
       "<matplotlib.figure.Figure at 0x7f9b6dbd3cc0>"
      ]
     },
     "metadata": {
      "tags": []
     },
     "output_type": "display_data"
    }
   ],
   "source": [
    "#get distribution of area burned by month.\n",
    "grouped = forest_fires.groupby('month')\n",
    "pos = []\n",
    "spreads = []\n",
    "for name,group in grouped:\n",
    "    pos.append(name)\n",
    "    spreads.append(grouped.get_group(name)['log_area'].tolist())\n",
    "print(len(spreads))\n",
    "plot = plt.violinplot(spreads, widths=.5,showmeans=True,  showmedians=True,bw_method=0.9)\n",
    "plt.xticks(np.arange(1,13), pos)"
   ]
  },
  {
   "cell_type": "code",
   "execution_count": 0,
   "metadata": {
    "colab": {
     "base_uri": "https://localhost:8080/",
     "height": 566
    },
    "colab_type": "code",
    "id": "u-OhbSALupP0",
    "outputId": "73a2ff5f-3eb2-46fc-ffb5-b5eaf11246e4"
   },
   "outputs": [
    {
     "name": "stdout",
     "output_type": "stream",
     "text": [
      "10\n"
     ]
    },
    {
     "data": {
      "text/plain": [
       "([<matplotlib.axis.XTick at 0x7f9b6daf7048>,\n",
       "  <matplotlib.axis.XTick at 0x7f9b6db0be48>,\n",
       "  <matplotlib.axis.XTick at 0x7f9b6dab05c0>,\n",
       "  <matplotlib.axis.XTick at 0x7f9b6da04630>,\n",
       "  <matplotlib.axis.XTick at 0x7f9b6da04d30>,\n",
       "  <matplotlib.axis.XTick at 0x7f9b6da08470>,\n",
       "  <matplotlib.axis.XTick at 0x7f9b6da08b70>,\n",
       "  <matplotlib.axis.XTick at 0x7f9b6d98d2b0>,\n",
       "  <matplotlib.axis.XTick at 0x7f9b6d98da20>,\n",
       "  <matplotlib.axis.XTick at 0x7f9b6d9951d0>,\n",
       "  <matplotlib.axis.XTick at 0x7f9b6d995940>],\n",
       " <a list of 10 Text xticklabel objects>)"
      ]
     },
     "execution_count": 119,
     "metadata": {
      "tags": []
     },
     "output_type": "execute_result"
    },
    {
     "data": {
      "image/png": "[encoded data removed]",
      "text/plain": [
       "<matplotlib.figure.Figure at 0x7f9b6dccdc50>"
      ]
     },
     "metadata": {
      "tags": []
     },
     "output_type": "display_data"
    }
   ],
   "source": [
    "#Take out instances of neglible area\n",
    "only_fires = forest_fires[forest_fires.area != 0.0]\n",
    "\n",
    "grouped = only_fires.groupby('month')\n",
    "pos = []\n",
    "spreads = []\n",
    "for name,group in grouped:\n",
    "    pos.append(name)\n",
    "    spreads.append(grouped.get_group(name)['log_area'].tolist())\n",
    "print(len(spreads))\n",
    "plot = plt.violinplot(spreads, widths=.5,showmeans=True,  showmedians=True,bw_method=0.9)\n",
    "plt.xticks(np.arange(1,12), pos)"
   ]
  },
  {
   "cell_type": "markdown",
   "metadata": {
    "colab_type": "text",
    "id": "XkMOTgc2tkvu"
   },
   "source": [
    "Removing these 0’s to take a look at the non-negligible fires displays a story that seems to make a bit more sense. It appears more that there is little correlation between month and severity of a non-negligible fire, normalizing for amount of data. We attempted a new multiple linear regression model with this non-negligible data. \n",
    "\n"
   ]
  },
  {
   "cell_type": "markdown",
   "metadata": {
    "colab_type": "text",
    "id": "PwM2AS9HvBIP"
   },
   "source": [
    "Unfortunately we found similar results, with low error, but upon look at the y actual vs y fitted, the plot again has a low r value of -0.2."
   ]
  },
  {
   "cell_type": "code",
   "execution_count": 0,
   "metadata": {
    "colab": {
     "base_uri": "https://localhost:8080/",
     "height": 452
    },
    "colab_type": "code",
    "id": "5LkMHrWquJvF",
    "outputId": "a05a6589-c4b6-420d-f9e0-1ef949837c32"
   },
   "outputs": [
    {
     "name": "stdout",
     "output_type": "stream",
     "text": [
      "error value: 1.053623\n",
      "coeff array: [ 0.00000000e+00  2.41798101e-02 -1.12066719e-01  2.08178611e-01\n",
      "  1.28190962e+00 -6.91432877e-01 -6.63825291e-01 -6.12956469e-01\n",
      " -1.52539531e-01  3.60537706e-01  1.94289029e-16  3.58015136e-01\n",
      " -1.52181018e-03  0.00000000e+00  2.24004673e-02  3.27379202e-02]\n",
      "r: -0.208232  p: 0.000574\n"
     ]
    },
    {
     "data": {
      "image/png": "[encoded data removed]",
      "text/plain": [
       "<matplotlib.figure.Figure at 0x7f9b6da89b38>"
      ]
     },
     "metadata": {
      "tags": []
     },
     "output_type": "display_data"
    }
   ],
   "source": [
    "#still disappointing actual vs fitted values\n",
    "X_fires = only_fires[['jan','feb','mar','apr','may','jun','jul','aug','sep','oct','nov','dec','RH','rain','temp','wind']].values\n",
    "Y_fires = only_fires['log_area'].values\n",
    "fires_pred = []\n",
    "fires_true = []\n",
    "\n",
    "for train, test in kf.split(X_fires):\n",
    "  reg = LinearRegression().fit(X_fires[train], Y_fires[train])\n",
    "  y_test = reg.predict(X_fires[test])\n",
    "  fires_pred = np.concatenate([fires_pred,y_test])\n",
    "  fires_true = np.concatenate([fires_true,Y_fires[test]])\n",
    "err = mean_absolute_error(fires_pred, fires_true)\n",
    "print(\"error value: %f\" % err)\n",
    "print(\"coeff array: \" + str(reg.coef_))\n",
    "\n",
    "plt.scatter(fires_true, fires_pred, alpha=0.5)\n",
    "plt.axis([0, 7, 0, 4])\n",
    "slope, intercept, r_value, p_value, std_err = stats.linregress(fires_true, fires_pred)\n",
    "print(\"r: %f  p: %f\" % (r_value,p_value))\n"
   ]
  },
  {
   "cell_type": "markdown",
   "metadata": {
    "colab_type": "text",
    "id": "jC_QAtyxvnIW"
   },
   "source": [
    "Now we try a different approach to encode time in months."
   ]
  },
  {
   "cell_type": "markdown",
   "metadata": {
    "colab_type": "text",
    "id": "SEwbQWEqvuoE"
   },
   "source": [
    "After restoring the forest_fires dataframe to its original state (i.e. with unaltered area values), we change the “month” value into a different form. We do so by expressing each month by its distance from December. Hopefully this yields a more useful model for predicting fire area.\n",
    "\n",
    "However, the data itself poses a few challenges. For one, there is a huge range in the recorded burned area of the fires. Almost all of the areas are from about 0-30 ha, but a few data points are in the hundreds, with one nearing 1000. This would result in an extremely unbalanced representation of the data. By instead changing the burned area entry of each fire to log(area+1), we can smooth out the data more without changing any key characteristics.\n",
    "We then fit a linear regression model to the data, with the dependent variable set to the log(area+1) of the fire, and the independent variable set to the month’s distance from December. \n"
   ]
  },
  {
   "cell_type": "code",
   "execution_count": 0,
   "metadata": {
    "colab": {
     "base_uri": "https://localhost:8080/",
     "height": 515
    },
    "colab_type": "code",
    "id": "EfIb4JH9GwY2",
    "outputId": "e0c61436-8e17-4e4a-c29e-1439c34bba15"
   },
   "outputs": [
    {
     "name": "stdout",
     "output_type": "stream",
     "text": [
      "6.995619625423205\n",
      "7\n"
     ]
    },
    {
     "data": {
      "text/plain": [
       "([<matplotlib.axis.XTick at 0x7f9b6d8d8e48>,\n",
       "  <matplotlib.axis.XTick at 0x7f9b6d944f60>,\n",
       "  <matplotlib.axis.XTick at 0x7f9b6d940e80>,\n",
       "  <matplotlib.axis.XTick at 0x7f9b6d891dd8>,\n",
       "  <matplotlib.axis.XTick at 0x7f9b6d899518>,\n",
       "  <matplotlib.axis.XTick at 0x7f9b6d899c18>,\n",
       "  <matplotlib.axis.XTick at 0x7f9b6d89f358>],\n",
       " <a list of 7 Text xticklabel objects>)"
      ]
     },
     "execution_count": 121,
     "metadata": {
      "tags": []
     },
     "output_type": "execute_result"
    },
    {
     "data": {
      "image/png": "[encoded data removed]",
      "text/plain": [
       "<matplotlib.figure.Figure at 0x7f9b6d9956d8>"
      ]
     },
     "metadata": {
      "tags": []
     },
     "output_type": "display_data"
    }
   ],
   "source": [
    "#Using defined months \n",
    "#linear regression dropping nothing\n",
    "forest_fires = forest_fires_copy\n",
    "forest_fires['distance_from_december'] = 0\n",
    "for index,row in forest_fires.iterrows():\n",
    "  if forest_fires.at[index, 'month'] == 'jan' or forest_fires.at[index, 'month'] == 'nov':\n",
    "    forest_fires.at[index, 'distance_from_december'] = 1\n",
    "  elif forest_fires.at[index, 'month'] == 'feb' or forest_fires.at[index, 'month'] == 'oct':\n",
    "    forest_fires.at[index, 'distance_from_december'] = 2\n",
    "  elif forest_fires.at[index, 'month'] == 'mar' or forest_fires.at[index, 'month'] == 'sep':\n",
    "    forest_fires.at[index, 'distance_from_december'] = 3\n",
    "  elif forest_fires.at[index, 'month'] == 'apr' or forest_fires.at[index, 'month'] == 'aug':\n",
    "    forest_fires.at[index, 'distance_from_december'] = 4\n",
    "  elif forest_fires.at[index, 'month'] == 'may' or forest_fires.at[index, 'month'] == 'jul':\n",
    "    forest_fires.at[index, 'distance_from_december'] = 5\n",
    "  elif forest_fires.at[index, 'month'] == 'jun':\n",
    "    forest_fires.at[index, 'distance_from_december'] = 6\n",
    "    \n",
    "  forest_fires.at[index, 'area'] = np.log(forest_fires.at[index, 'area'] + 1)\n",
    "print(max(forest_fires['area']))\n",
    "x = forest_fires['distance_from_december'].values\n",
    "y = forest_fires['area'].values\n",
    "x = x.reshape(517,1)\n",
    "y = y.reshape(517,1)\n",
    "regr = LinearRegression()\n",
    "regr.fit(x,y)\n",
    "regr.coef_\n",
    "plt.plot(x, regr.predict(x), color='blue', linewidth=1)\n",
    "\n",
    "grouped = forest_fires.groupby('distance_from_december')\n",
    "pos = []\n",
    "spreads = []\n",
    "for name,group in grouped:\n",
    "    pos.append(name)\n",
    "    spreads.append(grouped.get_group(name)['area'].tolist())\n",
    "print(len(spreads))\n",
    "plot = plt.violinplot(spreads, widths=.5,showmeans=True,  showmedians=True,bw_method=0.9)\n",
    "plt.xticks(np.arange(1,8), pos)"
   ]
  },
  {
   "cell_type": "markdown",
   "metadata": {
    "colab_type": "text",
    "id": "7XGso45evwrh"
   },
   "source": [
    "Distance from December and area of fires are still negatively correlated. We again drop the 0 values."
   ]
  },
  {
   "cell_type": "markdown",
   "metadata": {
    "colab_type": "text",
    "id": "JCXd2Pxkvz7G"
   },
   "source": [
    "Fitting with the one-hot encoding, there is a negative correlation between distance from December and burn area of fires. Next, we introduce relative humidity, temperature, wind,  and rain into the model.\n"
   ]
  },
  {
   "cell_type": "code",
   "execution_count": 0,
   "metadata": {
    "colab": {},
    "colab_type": "code",
    "id": "6ZAM3_bpCY9t"
   },
   "outputs": [],
   "source": [
    "#Redoing One Hot Encoding of Months\n",
    "forest_fires['jan'] = np.where(forest_fires['month'] == 'jan',1,0)\n",
    "forest_fires['feb'] = np.where(forest_fires['month'] == 'feb',1,0)\n",
    "forest_fires['mar'] = np.where(forest_fires['month'] == 'mar',1,0)\n",
    "forest_fires['apr'] = np.where(forest_fires['month'] == 'apr',1,0)\n",
    "forest_fires['may'] = np.where(forest_fires['month'] == 'may',1,0)\n",
    "forest_fires['jun'] = np.where(forest_fires['month'] == 'jun',1,0)\n",
    "forest_fires['jul'] = np.where(forest_fires['month'] == 'jul',1,0)\n",
    "forest_fires['aug'] = np.where(forest_fires['month'] == 'aug',1,0)\n",
    "forest_fires['sep'] = np.where(forest_fires['month'] == 'sep',1,0)\n",
    "forest_fires['oct'] = np.where(forest_fires['month'] == 'oct',1,0)\n",
    "forest_fires['nov'] = np.where(forest_fires['month'] == 'nov',1,0)\n",
    "forest_fires['dec'] = np.where(forest_fires['month'] == 'dec',1,0)\n",
    "only_fires = forest_fires[forest_fires.area != 0.0]\n",
    "\n"
   ]
  },
  {
   "cell_type": "code",
   "execution_count": 0,
   "metadata": {
    "colab": {
     "base_uri": "https://localhost:8080/",
     "height": 34
    },
    "colab_type": "code",
    "id": "RrUD5sd1HZFN",
    "outputId": "ff2722ff-f691-488f-b7c7-f6ecc27e57d7"
   },
   "outputs": [
    {
     "name": "stdout",
     "output_type": "stream",
     "text": [
      "The coefficients of the linear model are as follows: [-0.20516986 -0.00145968  0.01897225  0.03399233  0.01359418]\n"
     ]
    }
   ],
   "source": [
    "reg = linear_model.LinearRegression()\n",
    "terms = only_fires[['distance_from_december', 'RH', 'temp', 'wind', 'rain']]\n",
    "reg.fit(terms, only_fires['area'])\n",
    "m = reg.coef_\n",
    "b = reg.intercept_\n",
    "print(\"The coefficients of the linear model are as follows: {}\".format(m))"
   ]
  },
  {
   "cell_type": "markdown",
   "metadata": {
    "colab_type": "text",
    "id": "SvWRMRBSAZpf"
   },
   "source": [
    "We Perform Cross validation again, plotting predicted to actual values.\n",
    "Unfortunately we found similar results, with low error, but upon look at the y actual vs y fitted, the plot again has a low r value of -0.17293632365279513.\n"
   ]
  },
  {
   "cell_type": "code",
   "execution_count": 0,
   "metadata": {
    "colab": {
     "base_uri": "https://localhost:8080/",
     "height": 364
    },
    "colab_type": "code",
    "id": "xB1vFwEaIVCo",
    "outputId": "f8fccb73-e18f-4fb5-9c12-7e7c10826ef1"
   },
   "outputs": [
    {
     "name": "stdout",
     "output_type": "stream",
     "text": [
      "-0.17293632365279513\n"
     ]
    },
    {
     "data": {
      "image/png": "[encoded data removed]",
      "text/plain": [
       "<matplotlib.figure.Figure at 0x7f9b6d74cbe0>"
      ]
     },
     "metadata": {
      "tags": []
     },
     "output_type": "display_data"
    }
   ],
   "source": [
    "kf = KFold(n_splits = 10)\n",
    "kf.split(only_fires)\n",
    "predictions = []\n",
    "y_true = []\n",
    "x_temp = only_fires[['distance_from_december', 'RH', 'temp', 'wind', 'rain']].values\n",
    "y_temp = only_fires['area'].values\n",
    "for train_index, test_index in kf.split(only_fires):\n",
    "  x_train, x_test = x_temp[train_index], x_temp[test_index]\n",
    "  area_train, area_test = y_temp[train_index], y_temp[test_index]\n",
    "  reg = linear_model.LinearRegression()\n",
    "  reg.fit(x_train, area_train)\n",
    "  predictions = np.concatenate([predictions, reg.predict(x_test)])\n",
    "  y_true = np.concatenate([y_true, area_test])\n",
    "predictions\n",
    "error = mean_absolute_error(y_true, predictions)\n",
    "error\n",
    "plt.scatter(y_true, predictions)\n",
    "slope, intercept, r_value, p_value, std_error = stats.linregress(y_true, predictions)\n",
    "print(r_value)"
   ]
  },
  {
   "cell_type": "code",
   "execution_count": 0,
   "metadata": {
    "colab": {},
    "colab_type": "code",
    "id": "jIx9oiakC3L6"
   },
   "outputs": [],
   "source": [
    "#regression doesnt seem to work, maybe not enough data or features."
   ]
  },
  {
   "cell_type": "markdown",
   "metadata": {
    "colab_type": "text",
    "id": "hdW1snszAxhF"
   },
   "source": [
    "In a last ditch effort, we will try binary classification, with the two classes being negligible vs non-negligible fires.\n",
    "  \n",
    "Classification differs from regression because of the difference in goals. In classification, one is given a set of discrete classes to predict, while regression aims to predict from a range of values. Often this can be extended from repression, where if the values vary from 0 to 1, then if it is picked as 1 if the predicted y value is > .5 and otherwise 0. Logistic regression is a good example of this kind of approach. Another method is using decision trees, which at a high level, divide the decision space into hyper cubes. This can be better interpreted as a tree, where at each feature there is a split, and this is done recursively for all features, and a decision is given in the end. Repeating this with several different subsets or “batches” of the data creates a forest of trees, each with its own prediction. Finding the mode of the prediction results in the decision of the forest. This approach is appropriately called random forest.\n",
    "\n",
    "Here this concept is applied on negligible vs non-negligible fires. This was determined by whether the value in the area column was equal to 0 or not, if 0 then negligible, otherwise non-negligible. Looking at the split of non-negligible vs negligible, it appears that the split is nearly even, with non-negligible 270 fires, and 247 negligible fires. We trained a random forest model, which instead of performing repression, classified as either 1 or 0. Unfortunately  we found that our results were disappointing, with 40% accuracy. This means that randomly guessing, or just guessing a non-negligible fire would have been more effective. From this we find that there is no immediate value found in our encodings of features on repression and classification. Sometimes things just don't work out.\n",
    "\n",
    "\n"
   ]
  },
  {
   "cell_type": "code",
   "execution_count": 0,
   "metadata": {
    "colab": {
     "base_uri": "https://localhost:8080/",
     "height": 101
    },
    "colab_type": "code",
    "id": "-yr3rPxCDgCJ",
    "outputId": "1efb979f-11c2-41b3-95fa-f7f18b1895c9"
   },
   "outputs": [
    {
     "name": "stdout",
     "output_type": "stream",
     "text": [
      "1    270\n",
      "0    247\n",
      "Name: is_fire, dtype: int64\n",
      "517\n",
      "accuracy: 0.400387\n"
     ]
    }
   ],
   "source": [
    "#Turn to binary classification, neglible fire or not\n",
    "forest_fires_low = forest_fires\n",
    "forest_fires_low['is_fire'] = np.where(forest_fires_low['area'] != 0.0, 1,0)\n",
    "\n",
    "print(forest_fires_low['is_fire'].value_counts())\n",
    "print(len(forest_fires_low))\n",
    "X_is_fire = forest_fires_low[['RH','rain','temp','wind',]].values\n",
    "Y_is_fire = forest_fires_low['is_fire'].values\n",
    "\n",
    "is_fire_true = []\n",
    "is_fire_pred = []\n",
    "#RandomForest classifier with again, disappointing results\n",
    "\n",
    "for train, test in kf.split(X_is_fire):\n",
    "  clf = RandomForestClassifier(n_estimators=100, max_depth=2, random_state=0)\n",
    "  clf.fit(X_is_fire[train], Y_is_fire[train])\n",
    "  y_test = clf.predict(X_is_fire[test])\n",
    "  is_fire_pred = np.concatenate([is_fire_pred,y_test])\n",
    "  is_fire_true = np.concatenate([is_fire_true ,Y_is_fire[test]])\n",
    "acc = accuracy_score(is_fire_true,is_fire_pred)\n",
    "print(\"accuracy: %f\" % (acc))"
   ]
  },
  {
   "cell_type": "code",
   "execution_count": 0,
   "metadata": {
    "colab": {},
    "colab_type": "code",
    "id": "PQeP-SwXF7ZG"
   },
   "outputs": [],
   "source": []
  }
 ],
 "metadata": {
  "colab": {
   "collapsed_sections": [],
   "name": "Final Tutorial.ipynb",
   "provenance": [],
   "version": "0.3.2"
  },
  "kernelspec": {
   "display_name": "Python 3",
   "language": "python",
   "name": "python3"
  },
  "language_info": {
   "codemirror_mode": {
    "name": "ipython",
    "version": 3
   },
   "file_extension": ".py",
   "mimetype": "text/x-python",
   "name": "python",
   "nbconvert_exporter": "python",
   "pygments_lexer": "ipython3",
   "version": "3.6.3"
  }
 },
 "nbformat": 4,
 "nbformat_minor": 1
}
